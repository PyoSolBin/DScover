{
 "cells": [
  {
   "cell_type": "code",
   "execution_count": 18,
   "id": "2580a7ee",
   "metadata": {},
   "outputs": [],
   "source": [
    "from selenium import webdriver as wb\n",
    "from selenium.webdriver.common.keys import Keys\n",
    "from selenium.webdriver.common.by import By\n",
    "import time"
   ]
  },
  {
   "cell_type": "code",
   "execution_count": 10,
   "id": "6f64e28b",
   "metadata": {},
   "outputs": [],
   "source": [
    "driver = wb.Chrome()\n",
    "driver.get(\"https://www.hsd.co.kr/\")"
   ]
  },
  {
   "cell_type": "code",
   "execution_count": 23,
   "id": "3e6a09a2",
   "metadata": {},
   "outputs": [
    {
     "data": {
      "text/plain": [
       "''"
      ]
     },
     "execution_count": 23,
     "metadata": {},
     "output_type": "execute_result"
    }
   ],
   "source": [
    "# 자식선택자를 활용할 예정이다\n",
    "# text 글자정보로 가져온다.\n",
    "# elements method를 사용하는 실수를 할 수도 있으니까 조심하자!\n",
    "\n",
    "driver.find_element(By.CSS_SELECTOR,\"div.dp2>ul>li:nth-child(1)>a\").text"
   ]
  },
  {
   "cell_type": "code",
   "execution_count": 24,
   "id": "76f0b420",
   "metadata": {},
   "outputs": [],
   "source": [
    "# 이벤트를 젱하는 라이브러리\n",
    "# ex) 마우스를 올려두겠다, 클릭한 상태를 유지시키겠다, 드래그 앤 드롭\n",
    "from selenium.webdriver.common.action_chains import ActionChains"
   ]
  },
  {
   "cell_type": "code",
   "execution_count": 31,
   "id": "6b5878ca",
   "metadata": {},
   "outputs": [],
   "source": [
    "# 1. 마우스를 올릴 요소 (메뉴)\n",
    "# 2. 클릭할 요소 (전체메뉴)\n",
    "elm_hover = driver.find_element(By.CSS_SELECTOR, '#gnb > div.gnb_menu > ul > li:nth-child(3) > p > a')\n",
    "elm_click = driver.find_element(By.CSS_SELECTOR,\"#gnb > div.gnb_menu > ul > li:nth-child(3) > div > ul > li:nth-child(1) > a\")"
   ]
  },
  {
   "cell_type": "code",
   "execution_count": 33,
   "id": "1f5092de",
   "metadata": {},
   "outputs": [],
   "source": [
    "actions = ActionChains(driver)\n",
    "actions.move_to_element(elm_hover)\n",
    "actions.click(elm_click)\n",
    "actions.perform()"
   ]
  }
 ],
 "metadata": {
  "kernelspec": {
   "display_name": "Python 3 (ipykernel)",
   "language": "python",
   "name": "python3"
  },
  "language_info": {
   "codemirror_mode": {
    "name": "ipython",
    "version": 3
   },
   "file_extension": ".py",
   "mimetype": "text/x-python",
   "name": "python",
   "nbconvert_exporter": "python",
   "pygments_lexer": "ipython3",
   "version": "3.9.7"
  }
 },
 "nbformat": 4,
 "nbformat_minor": 5
}
