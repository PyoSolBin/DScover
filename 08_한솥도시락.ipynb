{
 "cells": [
  {
   "cell_type": "code",
   "execution_count": 1,
   "id": "2580a7ee",
   "metadata": {},
   "outputs": [],
   "source": [
    "from selenium import webdriver as wb\n",
    "from selenium.webdriver.common.keys import Keys\n",
    "from selenium.webdriver.common.by import By\n",
    "import time # 컴퓨터한테 쉬는 시간을 부여하는 장치"
   ]
  },
  {
   "cell_type": "code",
   "execution_count": 2,
   "id": "6f64e28b",
   "metadata": {},
   "outputs": [],
   "source": [
    "driver = wb.Chrome()\n",
    "driver.get(\"https://www.hsd.co.kr/\")"
   ]
  },
  {
   "cell_type": "code",
   "execution_count": 3,
   "id": "3e6a09a2",
   "metadata": {},
   "outputs": [
    {
     "data": {
      "text/plain": [
       "''"
      ]
     },
     "execution_count": 3,
     "metadata": {},
     "output_type": "execute_result"
    }
   ],
   "source": [
    "# 자식선택자를 활용할 예정이다\n",
    "# text 글자정보로 가져온다.\n",
    "# elements method를 사용하는 실수를 할 수도 있으니까 조심하자!\n",
    "\n",
    "driver.find_element(By.CSS_SELECTOR,\"div.dp2>ul>li:nth-child(1)>a\").text"
   ]
  },
  {
   "cell_type": "code",
   "execution_count": 4,
   "id": "76f0b420",
   "metadata": {},
   "outputs": [],
   "source": [
    "# 이벤트를 젱하는 라이브러리\n",
    "# ex) 마우스를 올려두겠다, 클릭한 상태를 유지시키겠다, 드래그 앤 드롭\n",
    "from selenium.webdriver.common.action_chains import ActionChains"
   ]
  },
  {
   "cell_type": "code",
   "execution_count": 5,
   "id": "6b5878ca",
   "metadata": {},
   "outputs": [],
   "source": [
    "# 1. 마우스를 올릴 요소 (메뉴)\n",
    "# 2. 클릭할 요소 (전체메뉴)\n",
    "elm_hover = driver.find_element(By.CSS_SELECTOR, '#gnb > div.gnb_menu > ul > li:nth-child(3) > p > a')\n",
    "elm_click = driver.find_element(By.CSS_SELECTOR,\"#gnb > div.gnb_menu > ul > li:nth-child(3) > div > ul > li:nth-child(1) > a\")"
   ]
  },
  {
   "cell_type": "code",
   "execution_count": 6,
   "id": "1f5092de",
   "metadata": {},
   "outputs": [],
   "source": [
    "actions = ActionChains(driver)\n",
    "actions.move_to_element(elm_hover)\n",
    "actions.click(elm_click)\n",
    "actions.perform()"
   ]
  },
  {
   "cell_type": "code",
   "execution_count": 24,
   "id": "6034ea92",
   "metadata": {},
   "outputs": [],
   "source": [
    "title = driver.find_elements(By.CSS_SELECTOR,\"h4.h.fz_03\")"
   ]
  },
  {
   "cell_type": "code",
   "execution_count": 10,
   "id": "53d4c64b",
   "metadata": {},
   "outputs": [
    {
     "data": {
      "text/plain": [
       "'더블함박'"
      ]
     },
     "execution_count": 10,
     "metadata": {},
     "output_type": "execute_result"
    }
   ],
   "source": [
    "title[0].text"
   ]
  },
  {
   "cell_type": "code",
   "execution_count": 25,
   "id": "85881aac",
   "metadata": {},
   "outputs": [],
   "source": [
    "price = driver.find_elements(By.CSS_SELECTOR,\"div.item-price > strong\")"
   ]
  },
  {
   "cell_type": "code",
   "execution_count": 13,
   "id": "b3563622",
   "metadata": {},
   "outputs": [
    {
     "data": {
      "text/plain": [
       "'6,700'"
      ]
     },
     "execution_count": 13,
     "metadata": {},
     "output_type": "execute_result"
    }
   ],
   "source": [
    "price[0].text"
   ]
  },
  {
   "cell_type": "code",
   "execution_count": 14,
   "id": "269572f7",
   "metadata": {},
   "outputs": [],
   "source": [
    "# 더보기 버튼의 위치를 알려주기\n",
    "# 클릭하기 위해서\n",
    "btnMore = driver.find_element(By.CSS_SELECTOR,\"a.c_05\")"
   ]
  },
  {
   "cell_type": "code",
   "execution_count": 15,
   "id": "63629451",
   "metadata": {},
   "outputs": [],
   "source": [
    "btnMore.click()"
   ]
  },
  {
   "cell_type": "code",
   "execution_count": 16,
   "id": "c038b9c4",
   "metadata": {},
   "outputs": [],
   "source": [
    "btnMore.click() # click 반복실행할 때 몇번 하는지 알 수 없다."
   ]
  },
  {
   "cell_type": "code",
   "execution_count": 23,
   "id": "c3a6d2fd",
   "metadata": {},
   "outputs": [
    {
     "name": "stdout",
     "output_type": "stream",
     "text": [
      "더보기 버튼이 존재하지 않습니다.\n",
      "더보기 버튼이 존재하지 않습니다.\n",
      "더보기 버튼이 존재하지 않습니다.\n",
      "더보기 버튼이 존재하지 않습니다.\n",
      "더보기 버튼이 존재하지 않습니다.\n",
      "더보기 버튼이 존재하지 않습니다.\n"
     ]
    }
   ],
   "source": [
    "for i in range(10) :\n",
    "    try : \n",
    "        btnMore = driver.find_element(By.CSS_SELECTOR,\"a.c_05\")\n",
    "        btnMore.click() # time.sleep('몇초') = 몇초동안 코드를 멈추겠다!\n",
    "        time.sleep(2) # 잠깐 잠들어있어\n",
    "    except : \n",
    "        print(\"더보기 버튼이 존재하지 않습니다.\")"
   ]
  },
  {
   "cell_type": "markdown",
   "id": "938abb44",
   "metadata": {},
   "source": [
    "# 예외처리\n",
    "- 오류가 나기전까지 코드를 시도\n",
    "- 오류가나면 오류가 코드가 아니고 다른 로직을 실행\n",
    "- try,except"
   ]
  },
  {
   "cell_type": "markdown",
   "id": "752a0821",
   "metadata": {},
   "source": [
    "try : \n",
    "    # 에러가 나기전까지 시도할 로직\n",
    "except : \n",
    "    # 에러가 났을 때 실행할 로직"
   ]
  },
  {
   "cell_type": "code",
   "execution_count": 26,
   "id": "bb847040",
   "metadata": {},
   "outputs": [
    {
     "data": {
      "text/plain": [
       "89"
      ]
     },
     "execution_count": 26,
     "metadata": {},
     "output_type": "execute_result"
    }
   ],
   "source": [
    "len(title)"
   ]
  },
  {
   "cell_type": "code",
   "execution_count": 27,
   "id": "280b6a49",
   "metadata": {},
   "outputs": [
    {
     "data": {
      "text/plain": [
       "89"
      ]
     },
     "execution_count": 27,
     "metadata": {},
     "output_type": "execute_result"
    }
   ],
   "source": [
    "len(price)"
   ]
  },
  {
   "cell_type": "code",
   "execution_count": 28,
   "id": "dddbe3c4",
   "metadata": {},
   "outputs": [],
   "source": [
    "# title,price 리스트 제작 완료\n",
    "# 비어있는 리스트에 순수한 텍스트 정보만 저장\n",
    "titleList = []\n",
    "priceList = []\n",
    "for i in range(len(title)) :\n",
    "    titleList.append(title[i].text)\n",
    "    priceList.append(price[i].text)    "
   ]
  },
  {
   "cell_type": "code",
   "execution_count": 33,
   "id": "d36c2558",
   "metadata": {},
   "outputs": [],
   "source": [
    "data = {'메뉴명' : titleList, '가격' : priceList}"
   ]
  },
  {
   "cell_type": "code",
   "execution_count": 34,
   "id": "50814af3",
   "metadata": {},
   "outputs": [],
   "source": [
    "import pandas as pd\n",
    "food = pd.DataFrame(data)"
   ]
  },
  {
   "cell_type": "code",
   "execution_count": 35,
   "id": "e570e458",
   "metadata": {},
   "outputs": [],
   "source": [
    "#csv파일로 저장\n",
    "food.to_csv('한솥.csv',encoding = 'euc-kr')"
   ]
  },
  {
   "cell_type": "code",
   "execution_count": null,
   "id": "609a61db",
   "metadata": {},
   "outputs": [],
   "source": []
  }
 ],
 "metadata": {
  "kernelspec": {
   "display_name": "Python 3 (ipykernel)",
   "language": "python",
   "name": "python3"
  },
  "language_info": {
   "codemirror_mode": {
    "name": "ipython",
    "version": 3
   },
   "file_extension": ".py",
   "mimetype": "text/x-python",
   "name": "python",
   "nbconvert_exporter": "python",
   "pygments_lexer": "ipython3",
   "version": "3.9.7"
  }
 },
 "nbformat": 4,
 "nbformat_minor": 5
}
