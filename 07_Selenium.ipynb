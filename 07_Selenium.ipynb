{
 "cells": [
  {
   "cell_type": "markdown",
   "id": "4fba7acc",
   "metadata": {},
   "source": [
    "# Selenum 라이브러리\n",
    "- 웹브라우저를 자동으로 제어하는 라이브러리\n",
    "- 반드시 한 번 설치가 필요!\n",
    "- webdriver = 브라우저의 역할을 해주는 라이브러리\n",
    "- Keys = 커뮾터에게 키보드 역할을 해주는 라이브러리\n"
   ]
  },
  {
   "cell_type": "code",
   "execution_count": 2,
   "id": "3dafb23a",
   "metadata": {},
   "outputs": [
    {
     "name": "stdout",
     "output_type": "stream",
     "text": [
      "Collecting selenium\n",
      "  Downloading selenium-4.4.3-py3-none-any.whl (985 kB)\n",
      "Requirement already satisfied: certifi>=2021.10.8 in c:\\users\\vythf\\anaconda3\\lib\\site-packages (from selenium) (2021.10.8)\n",
      "Collecting trio-websocket~=0.9\n",
      "  Downloading trio_websocket-0.9.2-py3-none-any.whl (16 kB)\n",
      "Collecting trio~=0.17\n",
      "  Downloading trio-0.21.0-py3-none-any.whl (358 kB)\n",
      "Requirement already satisfied: urllib3[socks]~=1.26 in c:\\users\\vythf\\anaconda3\\lib\\site-packages (from selenium) (1.26.7)\n",
      "Requirement already satisfied: attrs>=19.2.0 in c:\\users\\vythf\\anaconda3\\lib\\site-packages (from trio~=0.17->selenium) (21.2.0)\n",
      "Requirement already satisfied: async-generator>=1.9 in c:\\users\\vythf\\anaconda3\\lib\\site-packages (from trio~=0.17->selenium) (1.10)\n",
      "Requirement already satisfied: idna in c:\\users\\vythf\\anaconda3\\lib\\site-packages (from trio~=0.17->selenium) (3.2)\n",
      "Requirement already satisfied: cffi>=1.14 in c:\\users\\vythf\\anaconda3\\lib\\site-packages (from trio~=0.17->selenium) (1.14.6)\n",
      "Requirement already satisfied: sniffio in c:\\users\\vythf\\anaconda3\\lib\\site-packages (from trio~=0.17->selenium) (1.2.0)\n",
      "Requirement already satisfied: sortedcontainers in c:\\users\\vythf\\anaconda3\\lib\\site-packages (from trio~=0.17->selenium) (2.4.0)\n",
      "Collecting outcome\n",
      "  Downloading outcome-1.2.0-py2.py3-none-any.whl (9.7 kB)\n",
      "Requirement already satisfied: pycparser in c:\\users\\vythf\\anaconda3\\lib\\site-packages (from cffi>=1.14->trio~=0.17->selenium) (2.20)\n",
      "Collecting wsproto>=0.14\n",
      "  Downloading wsproto-1.2.0-py3-none-any.whl (24 kB)\n",
      "Requirement already satisfied: PySocks!=1.5.7,<2.0,>=1.5.6 in c:\\users\\vythf\\anaconda3\\lib\\site-packages (from urllib3[socks]~=1.26->selenium) (1.7.1)\n",
      "Collecting h11<1,>=0.9.0\n",
      "  Downloading h11-0.14.0-py3-none-any.whl (58 kB)\n",
      "Installing collected packages: outcome, h11, wsproto, trio, trio-websocket, selenium\n",
      "Successfully installed h11-0.14.0 outcome-1.2.0 selenium-4.4.3 trio-0.21.0 trio-websocket-0.9.2 wsproto-1.2.0\n"
     ]
    }
   ],
   "source": [
    "!pip install selenium"
   ]
  },
  {
   "cell_type": "code",
   "execution_count": null,
   "id": "b46809cb",
   "metadata": {},
   "outputs": [],
   "source": [
    "from selenium import webdriver as wb"
   ]
  },
  {
   "cell_type": "code",
   "execution_count": null,
   "id": "7b13fa09",
   "metadata": {},
   "outputs": [],
   "source": [
    "from selenium.webdriver.common.keys import Keys"
   ]
  },
  {
   "cell_type": "code",
   "execution_count": 50,
   "id": "82b00cf2",
   "metadata": {},
   "outputs": [],
   "source": [
    "# 컴퓨터야 wb를 통해서 크롬브라우저 좀 실행시켜줘!\n",
    "# 크롬창을 실행하는 명령어는 wb.Chrome()\n",
    "# .get('URL') 를 사용하여 원하는 파일을 가져옴\n",
    "# request와 똑같지만 실제로 브라우저를 사용한다는 점에서 차이점이 있다.\n",
    "driver = wb.Chrome()\n",
    "driver.get(\"https://www.naver.com\")"
   ]
  },
  {
   "cell_type": "code",
   "execution_count": 53,
   "id": "fa43d2b0",
   "metadata": {},
   "outputs": [],
   "source": [
    "# 드라이버야 내가 아이디가 query 요소인것 좀 찾아줘\n",
    "search = driver.find_element('id',\"query\")"
   ]
  },
  {
   "cell_type": "code",
   "execution_count": 54,
   "id": "9d2664e6",
   "metadata": {},
   "outputs": [],
   "source": [
    "#드라이버야 내가 아이디가 query 요소좀 찾아줘\n",
    "search.send_keys('코로나')"
   ]
  },
  {
   "cell_type": "code",
   "execution_count": 55,
   "id": "dae5eb82",
   "metadata": {},
   "outputs": [],
   "source": [
    "# 엔터를 치는 방법\n",
    "search.send_keys(Keys.ENTER)"
   ]
  },
  {
   "cell_type": "code",
   "execution_count": 56,
   "id": "373d5290",
   "metadata": {},
   "outputs": [],
   "source": [
    "# 뒤로가기 버튼 기능 실행 .back()\n",
    "driver.back()"
   ]
  },
  {
   "cell_type": "code",
   "execution_count": 58,
   "id": "c5e87d88",
   "metadata": {},
   "outputs": [],
   "source": [
    "# 클릭을 하는 방법\n",
    "btn = driver.find_element('id','search_btn')"
   ]
  },
  {
   "cell_type": "code",
   "execution_count": 59,
   "id": "1ec66b8c",
   "metadata": {},
   "outputs": [],
   "source": [
    "btn.click()"
   ]
  },
  {
   "cell_type": "code",
   "execution_count": 60,
   "id": "7b447da0",
   "metadata": {},
   "outputs": [],
   "source": [
    "#창을 종료하는 방법\n",
    "driver.quit()"
   ]
  },
  {
   "cell_type": "code",
   "execution_count": null,
   "id": "74507ee4",
   "metadata": {},
   "outputs": [],
   "source": []
  }
 ],
 "metadata": {
  "kernelspec": {
   "display_name": "Python 3 (ipykernel)",
   "language": "python",
   "name": "python3"
  },
  "language_info": {
   "codemirror_mode": {
    "name": "ipython",
    "version": 3
   },
   "file_extension": ".py",
   "mimetype": "text/x-python",
   "name": "python",
   "nbconvert_exporter": "python",
   "pygments_lexer": "ipython3",
   "version": "3.9.7"
  }
 },
 "nbformat": 4,
 "nbformat_minor": 5
}
